{
 "cells": [
  {
   "cell_type": "markdown",
   "metadata": {},
   "source": [
    "# TASK -2"
   ]
  },
  {
   "cell_type": "markdown",
   "metadata": {},
   "source": [
    "# 1.while loop"
   ]
  },
  {
   "cell_type": "markdown",
   "metadata": {},
   "source": [
    "## example -1"
   ]
  },
  {
   "cell_type": "code",
   "execution_count": 2,
   "metadata": {},
   "outputs": [
    {
     "name": "stdout",
     "output_type": "stream",
     "text": [
      "enter a number : 5\n",
      "1\n",
      "2\n",
      "3\n",
      "4\n"
     ]
    }
   ],
   "source": [
    "user_data = int(input('enter a number : '))\n",
    "i=1\n",
    "while i<user_data:\n",
    "    print(i)\n",
    "    i=i+1\n"
   ]
  },
  {
   "cell_type": "markdown",
   "metadata": {},
   "source": [
    "## example -2"
   ]
  },
  {
   "cell_type": "code",
   "execution_count": 4,
   "metadata": {},
   "outputs": [
    {
     "name": "stdout",
     "output_type": "stream",
     "text": [
      "enter number : 8\n",
      "JWALA\n",
      "JWALA\n",
      "JWALA\n",
      "JWALA\n",
      "JWALA\n",
      "JWALA\n",
      "JWALA\n",
      "JWALA\n"
     ]
    }
   ],
   "source": [
    "number = int(input('enter number : '))\n",
    "i=1\n",
    "while i<number+1:\n",
    "    print('JWALA')\n",
    "    i=i+1"
   ]
  },
  {
   "cell_type": "markdown",
   "metadata": {},
   "source": [
    "# 2.for loop"
   ]
  },
  {
   "cell_type": "markdown",
   "metadata": {},
   "source": [
    "## example -1"
   ]
  },
  {
   "cell_type": "code",
   "execution_count": 6,
   "metadata": {},
   "outputs": [
    {
     "name": "stdout",
     "output_type": "stream",
     "text": [
      "enter value : 10\n",
      "odd numbers : \n",
      "1\n",
      "3\n",
      "5\n",
      "7\n",
      "9\n"
     ]
    }
   ],
   "source": [
    "value = int(input('enter value : '))\n",
    "print('odd numbers : ')\n",
    "for i in range(1,value+1,2):\n",
    "    print(i)\n",
    "    "
   ]
  },
  {
   "cell_type": "markdown",
   "metadata": {},
   "source": [
    "## example -2"
   ]
  },
  {
   "cell_type": "code",
   "execution_count": 1,
   "metadata": {},
   "outputs": [
    {
     "name": "stdout",
     "output_type": "stream",
     "text": [
      " enter name : varsha reddy\n",
      "v\n",
      "a\n",
      "r\n",
      "s\n",
      "h\n",
      "a\n",
      " \n",
      "r\n",
      "e\n",
      "d\n",
      "d\n",
      "y\n"
     ]
    }
   ],
   "source": [
    "name = input(' enter name : ')\n",
    "for i in name :\n",
    "    print(i)"
   ]
  },
  {
   "cell_type": "markdown",
   "metadata": {},
   "source": [
    "# 3.if else"
   ]
  },
  {
   "cell_type": "markdown",
   "metadata": {},
   "source": [
    "## example -1"
   ]
  },
  {
   "cell_type": "code",
   "execution_count": 2,
   "metadata": {},
   "outputs": [
    {
     "name": "stdout",
     "output_type": "stream",
     "text": [
      "enter 1st number : 5\n",
      "enter 2nd number : 8\n",
      "highest number 8\n"
     ]
    }
   ],
   "source": [
    "number1 = int(input('enter 1st number : '))\n",
    "number2 = int(input('enter 2nd number : '))\n",
    "if number1>number2:\n",
    "    print('highest number',number1)\n",
    "else:\n",
    "    print('highest number',number2)"
   ]
  },
  {
   "cell_type": "markdown",
   "metadata": {},
   "source": [
    "## example -2"
   ]
  },
  {
   "cell_type": "code",
   "execution_count": 3,
   "metadata": {},
   "outputs": [
    {
     "name": "stdout",
     "output_type": "stream",
     "text": [
      "enter character : 7\n",
      "it is not an alphabet\n"
     ]
    }
   ],
   "source": [
    "char = input('enter character : ')\n",
    "if char <= 'A' and char>='Z' or char <='a' and char>='b':\n",
    "    print('it is alphabet')\n",
    "else:\n",
    "    print('it is not an alphabet')\n",
    "    "
   ]
  },
  {
   "cell_type": "markdown",
   "metadata": {},
   "source": [
    "# if elif else"
   ]
  },
  {
   "cell_type": "markdown",
   "metadata": {},
   "source": [
    "## example -1"
   ]
  },
  {
   "cell_type": "code",
   "execution_count": 4,
   "metadata": {},
   "outputs": [
    {
     "name": "stdout",
     "output_type": "stream",
     "text": [
      "enter 1st number2\n",
      "enter 2nd number3\n",
      "enter 3rd number4\n",
      "ascending order 2 3 4\n"
     ]
    }
   ],
   "source": [
    "number1=int(input('enter 1st number'))\n",
    "number2=int(input('enter 2nd number'))\n",
    "number3=int(input('enter 3rd number'))\n",
    "if number1 > number2 and number1 > number3:\n",
    "    high=number1\n",
    "    if number2>number3:\n",
    "        sec=number2\n",
    "    else:\n",
    "        last=number3\n",
    "elif number2 > number1 and number2 > number3:\n",
    "    high=number2\n",
    "    if number1>number3:\n",
    "        sec=number1\n",
    "    else:\n",
    "        last=number3        \n",
    "else:\n",
    "    high=number3\n",
    "    if number2>number1:\n",
    "        sec=number2\n",
    "    else:\n",
    "        last=number1        \n",
    "    \n",
    "    \n",
    "print('ascending order',last,sec,high)        \n"
   ]
  },
  {
   "cell_type": "markdown",
   "metadata": {},
   "source": [
    "## example -2"
   ]
  },
  {
   "cell_type": "code",
   "execution_count": 5,
   "metadata": {},
   "outputs": [
    {
     "name": "stdout",
     "output_type": "stream",
     "text": [
      "enter a character : #\n",
      "it is a special character\n"
     ]
    }
   ],
   "source": [
    "char = input('enter a character : ')\n",
    "if char <= 'A' and char>='Z' or char <='a' and char>='b':\n",
    "    print('it is a character')\n",
    "elif char >= '0' and char <='9':\n",
    "    print('it is a digit') \n",
    "elif char == ' ' or char == '\\t' or char == '\\n':\n",
    "    print('it is space')\n",
    "else:\n",
    "    print('it is a special character')"
   ]
  },
  {
   "cell_type": "markdown",
   "metadata": {},
   "source": [
    "# 5.user defined functions without for loop,if loop"
   ]
  },
  {
   "cell_type": "markdown",
   "metadata": {},
   "source": [
    "## example -1"
   ]
  },
  {
   "cell_type": "code",
   "execution_count": 6,
   "metadata": {},
   "outputs": [
    {
     "name": "stdout",
     "output_type": "stream",
     "text": [
      "enter 1st number3\n",
      "enter 2nd number5\n",
      "8\n"
     ]
    }
   ],
   "source": [
    "def addition(a,b):\n",
    "    print(a+b)\n",
    "number1=int(input('enter 1st number'))\n",
    "number2=int(input('enter 2nd number'))\n",
    "addition(number1,number2)      "
   ]
  },
  {
   "cell_type": "markdown",
   "metadata": {},
   "source": [
    "## example -2"
   ]
  },
  {
   "cell_type": "code",
   "execution_count": 7,
   "metadata": {},
   "outputs": [
    {
     "name": "stdout",
     "output_type": "stream",
     "text": [
      "enter name : varsha\n",
      "varsha\n"
     ]
    }
   ],
   "source": [
    "def print_(char):\n",
    "    print(char)\n",
    "name=input('enter name : ')\n",
    "print_(name)"
   ]
  },
  {
   "cell_type": "markdown",
   "metadata": {},
   "source": [
    "# 6.user defined functions with for loop"
   ]
  },
  {
   "cell_type": "markdown",
   "metadata": {},
   "source": [
    "## example -1"
   ]
  },
  {
   "cell_type": "code",
   "execution_count": 9,
   "metadata": {},
   "outputs": [
    {
     "name": "stdout",
     "output_type": "stream",
     "text": [
      "enter a number : 5\n",
      "factorial is  120\n"
     ]
    }
   ],
   "source": [
    "def factorial(value):\n",
    "    fact=1\n",
    "    for i in range(1,value+1):\n",
    "        fact=fact*i\n",
    "    print('factorial is ',fact)\n",
    "number=int(input('enter a number : '))  \n",
    "factorial(number)"
   ]
  },
  {
   "cell_type": "markdown",
   "metadata": {},
   "source": [
    "## example -2"
   ]
  },
  {
   "cell_type": "code",
   "execution_count": 1,
   "metadata": {},
   "outputs": [
    {
     "name": "stdout",
     "output_type": "stream",
     "text": [
      "enter name : jaswanth\n",
      "j\n",
      "a\n",
      "s\n",
      "w\n",
      "a\n",
      "n\n",
      "t\n",
      "h\n"
     ]
    }
   ],
   "source": [
    "def string(char):\n",
    "    for i in char:\n",
    "        print(i)\n",
    "name=input('enter name : ')\n",
    "string(name)"
   ]
  },
  {
   "cell_type": "markdown",
   "metadata": {},
   "source": [
    "# 7.user defined function with for loop and if statement"
   ]
  },
  {
   "cell_type": "markdown",
   "metadata": {},
   "source": [
    "## example -1"
   ]
  },
  {
   "cell_type": "code",
   "execution_count": 3,
   "metadata": {},
   "outputs": [
    {
     "name": "stdout",
     "output_type": "stream",
     "text": [
      "enter a number10\n",
      "1\n",
      "2\n",
      "5\n",
      "10\n"
     ]
    }
   ],
   "source": [
    "def factors(value):\n",
    "    for i in range(1,value+1):\n",
    "         if value%i==0:\n",
    "                print(i)\n",
    "number=int(input('enter a number'))   \n",
    "factors(number)\n",
    "            "
   ]
  },
  {
   "cell_type": "markdown",
   "metadata": {},
   "source": [
    "## example -2"
   ]
  },
  {
   "cell_type": "code",
   "execution_count": 4,
   "metadata": {},
   "outputs": [
    {
     "name": "stdout",
     "output_type": "stream",
     "text": [
      "enter a number : 7\n",
      "it is a prime number\n"
     ]
    }
   ],
   "source": [
    "def prime(value):\n",
    "    sum_=0\n",
    "    for i in range(1,value+1):\n",
    "        if value%i==0:\n",
    "            sum_=sum_+1\n",
    "    if sum_==2:\n",
    "        print('it is a prime number')\n",
    "number=int(input('enter a number : '))\n",
    "prime(number)"
   ]
  },
  {
   "cell_type": "markdown",
   "metadata": {},
   "source": [
    "# 8.break"
   ]
  },
  {
   "cell_type": "markdown",
   "metadata": {},
   "source": [
    "## example -1"
   ]
  },
  {
   "cell_type": "code",
   "execution_count": 6,
   "metadata": {},
   "outputs": [
    {
     "name": "stdout",
     "output_type": "stream",
     "text": [
      "enter number : 2\n",
      "it is a prime\n"
     ]
    }
   ],
   "source": [
    "user_req=int(input('enter number : '))\n",
    "for i in range(2,user_req):\n",
    "    if user_req%i==0:\n",
    "        print('it is not a prime')\n",
    "        break\n",
    "else:\n",
    "    print('it is a prime')"
   ]
  },
  {
   "cell_type": "markdown",
   "metadata": {},
   "source": [
    "## example -2"
   ]
  },
  {
   "cell_type": "code",
   "execution_count": 7,
   "metadata": {},
   "outputs": [
    {
     "name": "stdout",
     "output_type": "stream",
     "text": [
      "enter a name jaswant\n",
      "a is present\n"
     ]
    }
   ],
   "source": [
    "name =input('enter a name ')\n",
    "for i in name:\n",
    "    if i=='a':\n",
    "        print('a is present')\n",
    "        break\n",
    "else:\n",
    "    print('a i not present')    "
   ]
  },
  {
   "cell_type": "markdown",
   "metadata": {},
   "source": [
    "# 9.continue"
   ]
  },
  {
   "cell_type": "markdown",
   "metadata": {},
   "source": [
    "## example -1"
   ]
  },
  {
   "cell_type": "code",
   "execution_count": 9,
   "metadata": {},
   "outputs": [
    {
     "name": "stdout",
     "output_type": "stream",
     "text": [
      "enter a number : 10\n",
      "except multiplies of 10\n",
      "3\n",
      "4\n",
      "6\n",
      "7\n",
      "8\n",
      "9\n"
     ]
    }
   ],
   "source": [
    "number=int(input('enter a number : '))\n",
    "print('except multiplies of {}'.format(number))\n",
    "for i in range(1,number+1):\n",
    "    if number%i==0:\n",
    "        continue\n",
    "    print(i)"
   ]
  },
  {
   "cell_type": "markdown",
   "metadata": {},
   "source": [
    "## example -2"
   ]
  },
  {
   "cell_type": "code",
   "execution_count": 12,
   "metadata": {},
   "outputs": [
    {
     "name": "stdout",
     "output_type": "stream",
     "text": [
      "enter datagame\n",
      "g\n",
      "m\n",
      "e\n"
     ]
    }
   ],
   "source": [
    "data = input('enter data')\n",
    "for i in data:\n",
    "    if i=='a':\n",
    "        continue\n",
    "    print(i)    "
   ]
  },
  {
   "cell_type": "markdown",
   "metadata": {},
   "source": [
    "# 10.for loop with in operator"
   ]
  },
  {
   "cell_type": "markdown",
   "metadata": {},
   "source": [
    "## example -1"
   ]
  },
  {
   "cell_type": "code",
   "execution_count": 13,
   "metadata": {},
   "outputs": [
    {
     "name": "stdout",
     "output_type": "stream",
     "text": [
      "1\n",
      "2\n",
      "3\n",
      "4\n",
      "34\n",
      "5\n"
     ]
    }
   ],
   "source": [
    "list_ =[1,2,3,4,34,5,]\n",
    "for i in list_:\n",
    "    print(i)"
   ]
  },
  {
   "cell_type": "markdown",
   "metadata": {},
   "source": [
    "## example -2"
   ]
  },
  {
   "cell_type": "code",
   "execution_count": 14,
   "metadata": {},
   "outputs": [
    {
     "name": "stdout",
     "output_type": "stream",
     "text": [
      "b\n",
      "o\n",
      "o\n",
      "k\n"
     ]
    }
   ],
   "source": [
    "item = 'book'\n",
    "for i in item:\n",
    "    print(i)"
   ]
  },
  {
   "cell_type": "markdown",
   "metadata": {},
   "source": [
    "# 11.for loop with if statement"
   ]
  },
  {
   "cell_type": "markdown",
   "metadata": {},
   "source": [
    "## example -1"
   ]
  },
  {
   "cell_type": "code",
   "execution_count": 15,
   "metadata": {},
   "outputs": [
    {
     "name": "stdout",
     "output_type": "stream",
     "text": [
      "enter a number4\n",
      "1 0 0 0 \n",
      "\n",
      "0 1 0 0 \n",
      "\n",
      "0 0 1 0 \n",
      "\n",
      "0 0 0 1 \n",
      "\n"
     ]
    }
   ],
   "source": [
    "number=int(input('enter a number'))\n",
    "for i in range(1,number+1):\n",
    "    for j in range(1,number+1):\n",
    "        if i==j:\n",
    "            print('1',end=' ')\n",
    "        else:\n",
    "            print('0',end=' ')\n",
    "    print('\\n')       "
   ]
  },
  {
   "cell_type": "markdown",
   "metadata": {},
   "source": [
    "## example -2"
   ]
  },
  {
   "cell_type": "code",
   "execution_count": 22,
   "metadata": {},
   "outputs": [
    {
     "name": "stdout",
     "output_type": "stream",
     "text": [
      "1\n",
      "2\n",
      "3\n"
     ]
    }
   ],
   "source": [
    "fruit = 'mango123&'\n",
    "for i in fruit:\n",
    "    if i>= '0' and i<='9':\n",
    "        print(i)\n",
    "     "
   ]
  },
  {
   "cell_type": "markdown",
   "metadata": {},
   "source": [
    "# 12.if with in operator"
   ]
  },
  {
   "cell_type": "markdown",
   "metadata": {},
   "source": [
    "## example -1"
   ]
  },
  {
   "cell_type": "code",
   "execution_count": 25,
   "metadata": {},
   "outputs": [
    {
     "name": "stdout",
     "output_type": "stream",
     "text": [
      "present\n"
     ]
    }
   ],
   "source": [
    "data = [1,2,3,4,5]\n",
    "if 4 in data:\n",
    "    print('present')"
   ]
  },
  {
   "cell_type": "markdown",
   "metadata": {},
   "source": [
    "## example -2"
   ]
  },
  {
   "cell_type": "code",
   "execution_count": 27,
   "metadata": {},
   "outputs": [
    {
     "name": "stdout",
     "output_type": "stream",
     "text": [
      "present\n"
     ]
    }
   ],
   "source": [
    "movie = 'twilight saga'\n",
    "if 'w' in movie:\n",
    "    print('present')"
   ]
  },
  {
   "cell_type": "markdown",
   "metadata": {},
   "source": [
    "# 13.if with not in operator"
   ]
  },
  {
   "cell_type": "markdown",
   "metadata": {},
   "source": [
    "## example -1"
   ]
  },
  {
   "cell_type": "code",
   "execution_count": 29,
   "metadata": {},
   "outputs": [
    {
     "name": "stdout",
     "output_type": "stream",
     "text": [
      " not present\n"
     ]
    }
   ],
   "source": [
    "data = [1,2,3,4,5]\n",
    "if 8 not in data:\n",
    "    print(' not present')"
   ]
  },
  {
   "cell_type": "markdown",
   "metadata": {},
   "source": [
    "## example -2"
   ]
  },
  {
   "cell_type": "code",
   "execution_count": 30,
   "metadata": {},
   "outputs": [
    {
     "name": "stdout",
     "output_type": "stream",
     "text": [
      "not present\n"
     ]
    }
   ],
   "source": [
    "movie = 'twilight saga'\n",
    "if 'z' not in movie:\n",
    "    print('not present')"
   ]
  },
  {
   "cell_type": "code",
   "execution_count": null,
   "metadata": {},
   "outputs": [],
   "source": []
  }
 ],
 "metadata": {
  "kernelspec": {
   "display_name": "Python 3",
   "language": "python",
   "name": "python3"
  },
  "language_info": {
   "codemirror_mode": {
    "name": "ipython",
    "version": 3
   },
   "file_extension": ".py",
   "mimetype": "text/x-python",
   "name": "python",
   "nbconvert_exporter": "python",
   "pygments_lexer": "ipython3",
   "version": "3.8.5"
  }
 },
 "nbformat": 4,
 "nbformat_minor": 4
}
